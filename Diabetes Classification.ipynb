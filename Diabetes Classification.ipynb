{
 "cells": [
  {
   "cell_type": "markdown",
   "id": "39f60a4f",
   "metadata": {},
   "source": [
    "# <center> <h3> <span>Diabetes Disease Classification </span> </h3> </center>"
   ]
  },
  {
   "cell_type": "markdown",
   "id": "bcf62c53",
   "metadata": {},
   "source": [
    "## <span>⬇️ Import Libraries</span>"
   ]
  },
  {
   "cell_type": "code",
   "execution_count": 12,
   "id": "0236f4cb",
   "metadata": {},
   "outputs": [],
   "source": [
    "import pandas as pd\n",
    "import numpy as np\n",
    "import time"
   ]
  },
  {
   "cell_type": "code",
   "execution_count": 13,
   "id": "6c2d30a0",
   "metadata": {},
   "outputs": [],
   "source": [
    "from sklearn.preprocessing import StandardScaler\n",
    "from sklearn.model_selection import train_test_split"
   ]
  },
  {
   "cell_type": "code",
   "execution_count": 14,
   "id": "c76c3d07",
   "metadata": {},
   "outputs": [],
   "source": [
    "import warnings\n",
    "warnings.filterwarnings('ignore')"
   ]
  },
  {
   "cell_type": "markdown",
   "id": "905e2107",
   "metadata": {},
   "source": [
    "## <span>📚 Read the Dataset</span>"
   ]
  },
  {
   "cell_type": "code",
   "execution_count": 4,
   "id": "66cdecbf",
   "metadata": {},
   "outputs": [],
   "source": [
    "df = pd.read_csv('diabetes-dataset.csv')\n",
    "x = df.drop('Outcome',axis=1)\n",
    "y = df['Outcome']"
   ]
  },
  {
   "cell_type": "markdown",
   "id": "e1547276",
   "metadata": {},
   "source": [
    "## <span>✂ Split the Data into Train and Test </span>"
   ]
  },
  {
   "cell_type": "code",
   "execution_count": null,
   "id": "08233c51",
   "metadata": {},
   "outputs": [],
   "source": [
    "X_train, X_test, y_train, y_test = train_test_split(x, y, test_size=0.30, random_state=0)\n",
    "\n",
    "x = X_train.values.T\n",
    "y = y_train.values"
   ]
  },
  {
   "cell_type": "markdown",
   "id": "aeab7c81",
   "metadata": {},
   "source": [
    "### Hyperparameters"
   ]
  },
  {
   "cell_type": "code",
   "execution_count": 15,
   "id": "8ec0ff33",
   "metadata": {},
   "outputs": [],
   "source": [
    "np.random.seed(420)\n",
    "no_hidden_layers = 2\n",
    "learning_rate = 0.01   \n",
    "no_epochs = 100          \n",
    "number_of_inputs = 8     \n",
    "output_neurons = 1       \n",
    "\n",
    "max_no_hidden_layers = 5 "
   ]
  },
  {
   "cell_type": "markdown",
   "id": "d34297e2",
   "metadata": {},
   "source": [
    "### Creating a dictionary with hyperparameters"
   ]
  },
  {
   "cell_type": "code",
   "execution_count": 19,
   "id": "1b3482d4",
   "metadata": {},
   "outputs": [],
   "source": [
    "def init_hyperparams_dict(max_no_hidden_layers):\n",
    "    keys = ['no_hidden_layers']    \n",
    "    for i in range(max_no_hidden_layers):    \n",
    "        keys.append('no_neurons_hidden_layer_'+str(i))\n",
    "        keys.append('activation_function_'+str(i))\n",
    "\n",
    "    keys.extend(['output_activation_function', 'learning_rate', 'no_epochs'])\n",
    "    hyperparams = dict.fromkeys(keys)    \n",
    "    return hyperparams\n",
    "\n",
    "\n",
    "def add_params_dict(hyperparams, no_hidden_layers, max_no_hidden_layers, learning_rate, no_epochs):\n",
    "    hyperparams['no_hidden_layers'] = no_hidden_layers\n",
    "    i = 0\n",
    "\n",
    "    while i < max_no_hidden_layers:\n",
    "        if i < no_hidden_layers:    \n",
    "            hyperparams['no_neurons_hidden_layer_'+str(i)] = int(input('Enter number of neurons in Layer'+str(i+1)+': '))\n",
    "            hyperparams['activation_function_'+str(i)] = str(input('Enter the Activation Function for Layer'+str(i+1)+': '))\n",
    "        else:                     \n",
    "            hyperparams[\"no_neurons_hidden_layer_\"+str(i)] = None\n",
    "            hyperparams[\"activation_function_\"+str(i)] = None\n",
    "        i += 1\n",
    "    hyperparams['output_activation_function'] = str(input('Enter the Activation Function for output: '))\n",
    "    hyperparams['learning_rate'] = learning_rate\n",
    "    hyperparams['no_epochs'] = no_epochs\n",
    "    return hyperparams"
   ]
  },
  {
   "cell_type": "code",
   "execution_count": 20,
   "id": "52aeb7db",
   "metadata": {
    "scrolled": true
   },
   "outputs": [
    {
     "name": "stdout",
     "output_type": "stream",
     "text": [
      "Enter number of neurons in Layer1: 150\n",
      "Enter the Activation Function for Layer1: relu\n",
      "Enter number of neurons in Layer2: 100\n",
      "Enter the Activation Function for Layer2: relu\n",
      "Enter the Activation Function for output: sigmoid\n"
     ]
    }
   ],
   "source": [
    "hyperparams = init_hyperparams_dict(max_no_hidden_layers)\n",
    "hyperparams = add_params_dict(hyperparams, no_hidden_layers, max_no_hidden_layers, learning_rate, no_epochs)"
   ]
  },
  {
   "cell_type": "code",
   "execution_count": 21,
   "id": "d3573a5e",
   "metadata": {},
   "outputs": [
    {
     "data": {
      "text/plain": [
       "{'no_hidden_layers': 2,\n",
       " 'no_neurons_hidden_layer_0': 150,\n",
       " 'activation_function_0': 'relu',\n",
       " 'no_neurons_hidden_layer_1': 100,\n",
       " 'activation_function_1': 'relu',\n",
       " 'no_neurons_hidden_layer_2': None,\n",
       " 'activation_function_2': None,\n",
       " 'no_neurons_hidden_layer_3': None,\n",
       " 'activation_function_3': None,\n",
       " 'no_neurons_hidden_layer_4': None,\n",
       " 'activation_function_4': None,\n",
       " 'output_activation_function': 'sigmoid',\n",
       " 'learning_rate': 0.01,\n",
       " 'no_epochs': 100}"
      ]
     },
     "execution_count": 21,
     "metadata": {},
     "output_type": "execute_result"
    }
   ],
   "source": [
    "hyperparams"
   ]
  },
  {
   "cell_type": "code",
   "execution_count": 9,
   "id": "06470932",
   "metadata": {},
   "outputs": [],
   "source": [
    "weights = []\n",
    "bias = []\n",
    "def generate_wb(number_of_inputs, hyperparams):\n",
    "    weights.append(np.random.uniform(low=-0.5, high=0.5, size=(number_of_inputs, hyperparams['no_neurons_hidden_layer_0'])))\n",
    "    i = 0\n",
    "    while i<hyperparams['no_hidden_layers']:\n",
    "        if(i == hyperparams['no_hidden_layers'] - 1): \n",
    "    \n",
    "            weights.append(np.random.uniform(low=-0.5,high=0.5,size=(hyperparams['no_neurons_hidden_layer_'+str(i)], output_neurons)))\n",
    "            bias.append(np.zeros((hyperparams['no_neurons_hidden_layer_'+str(i)], 1)))\n",
    "        else:\n",
    "    \n",
    "            weights.append(np.random.uniform(low=-0.5,high=0.5,size=(hyperparams['no_neurons_hidden_layer_'+str(i)], hyperparams['no_neurons_hidden_layer_'+str(i+1)])))\n",
    "            bias.append(np.zeros((hyperparams['no_neurons_hidden_layer_'+str(i)], 1)))\n",
    "        i+=1\n",
    "    bias.append(np.zeros((output_neurons, 1)))\n",
    "    return weights, bias"
   ]
  },
  {
   "cell_type": "markdown",
   "id": "2bd86555",
   "metadata": {},
   "source": [
    "### Acitvation Functions"
   ]
  },
  {
   "cell_type": "code",
   "execution_count": 10,
   "id": "9396d4bc",
   "metadata": {},
   "outputs": [],
   "source": [
    "def sigmoid(z):\n",
    "    a=np.zeros([1,1])\n",
    "    a=1/(1+np.exp(-z))\n",
    "    return a\n",
    "\n",
    "def sigmoid_derivative(A):\n",
    "    return A*(1-A)\n",
    "    \n",
    "def ReLU(z):\n",
    "    return np.maximum(z, 0)\n",
    "\n",
    "def ReLU_derivative(z):\n",
    "    return z > 0\n",
    "\n",
    "def tanh(z):\n",
    "    z=(np.exp(z)-np.exp(-z))/(np.exp(z)+np.exp(-z))\n",
    "    z=1-z**2\n",
    "    return z\n",
    "\n",
    "def tanh_derivative(z):\n",
    "    dz=1-z**2\n",
    "    return dz"
   ]
  },
  {
   "cell_type": "markdown",
   "id": "a4395bcf",
   "metadata": {},
   "source": [
    "## <span> Forward Propagation</span>"
   ]
  },
  {
   "cell_type": "code",
   "execution_count": 11,
   "id": "9bd67e78",
   "metadata": {},
   "outputs": [],
   "source": [
    "def forward_propagation(weights, bias, hyperparams, x):\n",
    "    z = []    \n",
    "    a = []\n",
    "    i = 0\n",
    "    while i <= hyperparams['no_hidden_layers']:\n",
    "        if i == 0:\n",
    "            z.append(np.matmul(weights[i].T,x) + bias[i])   \n",
    "        else:\n",
    "            z.append(np.matmul(weights[i].T, a[i - 1]) + bias[i]) \n",
    "        if i == hyperparams['no_hidden_layers']:   \n",
    "            if(hyperparams['output_activation_function'] == 'sigmoid'):\n",
    "                a.append(sigmoid(z[i]))\n",
    "            elif(hyperparams['output_activation_function'] == 'tanh'):\n",
    "                a.append(tanh(z[i]))\n",
    "            elif(hyperparams['output_activation_function'] == 'relu'):\n",
    "                a.append(ReLU(z[i]))\n",
    "        else:      \n",
    "            if(hyperparams['activation_function_'+str(i)] == 'sigmoid'):\n",
    "                a.append(sigmoid(z[i]))\n",
    "            elif(hyperparams['activation_function_'+str(i)] == 'tanh'):\n",
    "                a.append(tanh(z[i]))\n",
    "            elif(hyperparams['activation_function_'+str(i)] == 'relu'):\n",
    "                a.append(ReLU(z[i]))\n",
    "        \n",
    "        i+=1\n",
    "    \n",
    "    return z, a"
   ]
  },
  {
   "cell_type": "markdown",
   "id": "e5098826",
   "metadata": {},
   "source": [
    "### Log loss"
   ]
  },
  {
   "cell_type": "code",
   "execution_count": 12,
   "id": "c5b6eb35",
   "metadata": {},
   "outputs": [],
   "source": [
    "def log_loss_calc(output, y):\n",
    "    loss = 0\n",
    "    loss =- 1 * np.sum(y * np.log(output + 1e-10) + ((1 - y) * np.log(1 - output + 1e-10)))\n",
    "    loss = loss / y.shape[0]\n",
    "    return loss"
   ]
  },
  {
   "cell_type": "markdown",
   "id": "fb516c52",
   "metadata": {},
   "source": [
    "### Hinge Loss"
   ]
  },
  {
   "cell_type": "code",
   "execution_count": 13,
   "id": "73a784ec",
   "metadata": {},
   "outputs": [],
   "source": [
    "def hinge_loss_calc(y, y_hat):\n",
    "    y_new = np.array([-1 if i==0 else i for i in y])        \n",
    "    y_hat = np.array([-1 if i==0 else i for i in y_hat])    \n",
    "    hinge_loss = np.mean([max(0, 1-x*y) for x, y in zip(y_new, y_hat)])\n",
    "    return hinge_loss\n"
   ]
  },
  {
   "cell_type": "markdown",
   "id": "add5bdae",
   "metadata": {},
   "source": [
    "### Backward Propagation"
   ]
  },
  {
   "cell_type": "code",
   "execution_count": 14,
   "id": "949bf75e",
   "metadata": {},
   "outputs": [],
   "source": [
    "dw = []\n",
    "db = []\n",
    "def generate_dwdb(hyperparams):\n",
    "    dw.clear()\n",
    "    db.clear()\n",
    "    for i in range(hyperparams['no_hidden_layers']):\n",
    "        dw.append(np.zeros_like(weights[i]))\n",
    "        db.append(np.zeros_like(bias[i]))\n",
    "    return dw, db"
   ]
  },
  {
   "cell_type": "code",
   "execution_count": 15,
   "id": "7bb21800",
   "metadata": {},
   "outputs": [],
   "source": [
    "def backward_propagation(a, weights, bias, y, x):\n",
    "    dz = []\n",
    "    dz.append((a[no_hidden_layers]) - y)   \n",
    "    dw.append(np.matmul(a[no_hidden_layers - 1],dz[0].T)/y.shape[0])\n",
    "    db.append(np.sum(dz[0],axis=0,keepdims=True)/y.shape[0])\n",
    "\n",
    "    i = no_hidden_layers    \n",
    "    j = 1    \n",
    "    while i>0:\n",
    "    \n",
    "        if(hyperparams['activation_function_'+str(i-1)] == 'sigmoid'):\n",
    "            dz.append(np.multiply(np.matmul(weights[i],dz[j-1]),sigmoid_derivative(a[i-1])))\n",
    "        elif(hyperparams['activation_function_'+str(i-1)] == 'tanh'):\n",
    "            dz.append(np.multiply(np.matmul(weights[i],dz[j-1]),tanh_derivative(a[i-1])))\n",
    "        elif(hyperparams['activation_function_'+str(i-1)] == 'relu'):\n",
    "            dz.append(np.multiply(np.matmul(weights[i],dz[j-1]),ReLU_derivative(a[i-1])))\n",
    "        if(i!=1):\n",
    "            dw.append(np.matmul(a[i-2], dz[j].T)/y.shape[0])\n",
    "            db.append(np.sum(dz[j],axis=0, keepdims=True)/y.shape[0])\n",
    "        elif(i==1):  \n",
    "                     \n",
    "            dw.append(np.matmul(x,dz[j].T)/y.shape[0])\n",
    "            db.append(np.sum(dz[j], axis=0, keepdims=True)/y.shape[0])\n",
    "        i-=1\n",
    "        j+=1\n",
    "    dz.reverse()\n",
    "    db.reverse()\n",
    "    dw.reverse()\n",
    "    \n",
    "    i=0\n",
    "    while i<=no_hidden_layers:\n",
    "        weights[i] = weights[i]-learning_rate*dw[i]\n",
    "        bias[i] = bias[i]-learning_rate*db[i]\n",
    "        i+=1\n",
    "        \n",
    "    return weights, bias, dw, db"
   ]
  },
  {
   "cell_type": "code",
   "execution_count": 16,
   "id": "d50a8284",
   "metadata": {},
   "outputs": [],
   "source": [
    "def accuracy_calc(output):\n",
    "    y_hat=[]\n",
    "    correct=0\n",
    "    accuracy=0\n",
    "    for i, m in enumerate(output):\n",
    "        if m<0.5:\n",
    "            y_hat.append(0)\n",
    "        elif m>=0.5:\n",
    "            y_hat.append(1)\n",
    "            \n",
    "    correct=np.sum(y==y_hat)\n",
    "    accuracy=correct/y.shape[0]\n",
    "    return y_hat, correct, accuracy"
   ]
  },
  {
   "cell_type": "code",
   "execution_count": 17,
   "id": "2d057709",
   "metadata": {},
   "outputs": [
    {
     "name": "stdout",
     "output_type": "stream",
     "text": [
      "Total Correct Predictions:  919 / 1400\n",
      "Accuracy for the current Epoch 0 = 65.64%\n",
      "Total Correct Predictions:  481 / 1400\n",
      "Accuracy for the current Epoch 1 = 34.36%\n",
      "Total Correct Predictions:  919 / 1400\n",
      "Accuracy for the current Epoch 2 = 65.64%\n",
      "Total Correct Predictions:  481 / 1400\n",
      "Accuracy for the current Epoch 3 = 34.36%\n",
      "Total Correct Predictions:  919 / 1400\n",
      "Accuracy for the current Epoch 4 = 65.64%\n",
      "Total Correct Predictions:  940 / 1400\n",
      "Accuracy for the current Epoch 5 = 67.14%\n",
      "Total Correct Predictions:  1056 / 1400\n",
      "Accuracy for the current Epoch 6 = 75.43%\n",
      "Total Correct Predictions:  1062 / 1400\n",
      "Accuracy for the current Epoch 7 = 75.86%\n",
      "Total Correct Predictions:  709 / 1400\n",
      "Accuracy for the current Epoch 8 = 50.64%\n",
      "Total Correct Predictions:  1351 / 1400\n",
      "Accuracy for the current Epoch 9 = 96.50%\n",
      "Total Correct Predictions:  1351 / 1400\n",
      "Accuracy for the current Epoch 10 = 96.50%\n",
      "Total Correct Predictions:  1361 / 1400\n",
      "Accuracy for the current Epoch 11 = 97.21%\n",
      "Total Correct Predictions:  1358 / 1400\n",
      "Accuracy for the current Epoch 12 = 97.00%\n",
      "Total Correct Predictions:  1361 / 1400\n",
      "Accuracy for the current Epoch 13 = 97.21%\n",
      "Total Correct Predictions:  1371 / 1400\n",
      "Accuracy for the current Epoch 14 = 97.93%\n",
      "Total Correct Predictions:  1365 / 1400\n",
      "Accuracy for the current Epoch 15 = 97.50%\n",
      "Total Correct Predictions:  1365 / 1400\n",
      "Accuracy for the current Epoch 16 = 97.50%\n",
      "Total Correct Predictions:  1366 / 1400\n",
      "Accuracy for the current Epoch 17 = 97.57%\n",
      "Total Correct Predictions:  1369 / 1400\n",
      "Accuracy for the current Epoch 18 = 97.79%\n",
      "Total Correct Predictions:  1368 / 1400\n",
      "Accuracy for the current Epoch 19 = 97.71%\n",
      "Total Correct Predictions:  1366 / 1400\n",
      "Accuracy for the current Epoch 20 = 97.57%\n",
      "Total Correct Predictions:  1371 / 1400\n",
      "Accuracy for the current Epoch 21 = 97.93%\n",
      "Total Correct Predictions:  1368 / 1400\n",
      "Accuracy for the current Epoch 22 = 97.71%\n",
      "Total Correct Predictions:  1366 / 1400\n",
      "Accuracy for the current Epoch 23 = 97.57%\n",
      "Total Correct Predictions:  1375 / 1400\n",
      "Accuracy for the current Epoch 24 = 98.21%\n",
      "Total Correct Predictions:  1370 / 1400\n",
      "Accuracy for the current Epoch 25 = 97.86%\n",
      "Total Correct Predictions:  1368 / 1400\n",
      "Accuracy for the current Epoch 26 = 97.71%\n",
      "Total Correct Predictions:  1369 / 1400\n",
      "Accuracy for the current Epoch 27 = 97.79%\n",
      "Total Correct Predictions:  1369 / 1400\n",
      "Accuracy for the current Epoch 28 = 97.79%\n",
      "Total Correct Predictions:  1379 / 1400\n",
      "Accuracy for the current Epoch 29 = 98.50%\n",
      "Total Correct Predictions:  1368 / 1400\n",
      "Accuracy for the current Epoch 30 = 97.71%\n",
      "Total Correct Predictions:  1368 / 1400\n",
      "Accuracy for the current Epoch 31 = 97.71%\n",
      "Total Correct Predictions:  1379 / 1400\n",
      "Accuracy for the current Epoch 32 = 98.50%\n",
      "Total Correct Predictions:  1368 / 1400\n",
      "Accuracy for the current Epoch 33 = 97.71%\n",
      "Total Correct Predictions:  1370 / 1400\n",
      "Accuracy for the current Epoch 34 = 97.86%\n",
      "Total Correct Predictions:  1379 / 1400\n",
      "Accuracy for the current Epoch 35 = 98.50%\n",
      "Total Correct Predictions:  1368 / 1400\n",
      "Accuracy for the current Epoch 36 = 97.71%\n",
      "Total Correct Predictions:  1369 / 1400\n",
      "Accuracy for the current Epoch 37 = 97.79%\n",
      "Total Correct Predictions:  1386 / 1400\n",
      "Accuracy for the current Epoch 38 = 99.00%\n",
      "Total Correct Predictions:  1366 / 1400\n",
      "Accuracy for the current Epoch 39 = 97.57%\n",
      "Total Correct Predictions:  1370 / 1400\n",
      "Accuracy for the current Epoch 40 = 97.86%\n",
      "Total Correct Predictions:  1366 / 1400\n",
      "Accuracy for the current Epoch 41 = 97.57%\n",
      "Total Correct Predictions:  1371 / 1400\n",
      "Accuracy for the current Epoch 42 = 97.93%\n",
      "Total Correct Predictions:  1384 / 1400\n",
      "Accuracy for the current Epoch 43 = 98.86%\n",
      "Total Correct Predictions:  1366 / 1400\n",
      "Accuracy for the current Epoch 44 = 97.57%\n",
      "Total Correct Predictions:  1371 / 1400\n",
      "Accuracy for the current Epoch 45 = 97.93%\n",
      "Total Correct Predictions:  1384 / 1400\n",
      "Accuracy for the current Epoch 46 = 98.86%\n",
      "Total Correct Predictions:  1375 / 1400\n",
      "Accuracy for the current Epoch 47 = 98.21%\n",
      "Total Correct Predictions:  1382 / 1400\n",
      "Accuracy for the current Epoch 48 = 98.71%\n",
      "Total Correct Predictions:  1375 / 1400\n",
      "Accuracy for the current Epoch 49 = 98.21%\n",
      "Total Correct Predictions:  1385 / 1400\n",
      "Accuracy for the current Epoch 50 = 98.93%\n",
      "Total Correct Predictions:  1364 / 1400\n",
      "Accuracy for the current Epoch 51 = 97.43%\n",
      "Total Correct Predictions:  1371 / 1400\n",
      "Accuracy for the current Epoch 52 = 97.93%\n",
      "Total Correct Predictions:  1382 / 1400\n",
      "Accuracy for the current Epoch 53 = 98.71%\n",
      "Total Correct Predictions:  1375 / 1400\n",
      "Accuracy for the current Epoch 54 = 98.21%\n",
      "Total Correct Predictions:  1384 / 1400\n",
      "Accuracy for the current Epoch 55 = 98.86%\n",
      "Total Correct Predictions:  1371 / 1400\n",
      "Accuracy for the current Epoch 56 = 97.93%\n",
      "Total Correct Predictions:  1373 / 1400\n",
      "Accuracy for the current Epoch 57 = 98.07%\n",
      "Total Correct Predictions:  1382 / 1400\n",
      "Accuracy for the current Epoch 58 = 98.71%\n",
      "Total Correct Predictions:  1375 / 1400\n",
      "Accuracy for the current Epoch 59 = 98.21%\n",
      "Total Correct Predictions:  1382 / 1400\n",
      "Accuracy for the current Epoch 60 = 98.71%\n",
      "Total Correct Predictions:  1377 / 1400\n",
      "Accuracy for the current Epoch 61 = 98.36%\n",
      "Total Correct Predictions:  1384 / 1400\n",
      "Accuracy for the current Epoch 62 = 98.86%\n",
      "Total Correct Predictions:  1375 / 1400\n",
      "Accuracy for the current Epoch 63 = 98.21%\n",
      "Total Correct Predictions:  1384 / 1400\n",
      "Accuracy for the current Epoch 64 = 98.86%\n",
      "Total Correct Predictions:  1369 / 1400\n",
      "Accuracy for the current Epoch 65 = 97.79%\n",
      "Total Correct Predictions:  1377 / 1400\n",
      "Accuracy for the current Epoch 66 = 98.36%\n",
      "Total Correct Predictions:  1382 / 1400\n",
      "Accuracy for the current Epoch 67 = 98.71%\n",
      "Total Correct Predictions:  1375 / 1400\n",
      "Accuracy for the current Epoch 68 = 98.21%\n",
      "Total Correct Predictions:  1390 / 1400\n",
      "Accuracy for the current Epoch 69 = 99.29%\n",
      "Total Correct Predictions:  1375 / 1400\n",
      "Accuracy for the current Epoch 70 = 98.21%\n",
      "Total Correct Predictions:  1384 / 1400\n",
      "Accuracy for the current Epoch 71 = 98.86%\n",
      "Total Correct Predictions:  1375 / 1400\n",
      "Accuracy for the current Epoch 72 = 98.21%\n",
      "Total Correct Predictions:  1378 / 1400\n",
      "Accuracy for the current Epoch 73 = 98.43%\n",
      "Total Correct Predictions:  1386 / 1400\n",
      "Accuracy for the current Epoch 74 = 99.00%\n",
      "Total Correct Predictions:  1378 / 1400\n",
      "Accuracy for the current Epoch 75 = 98.43%\n",
      "Total Correct Predictions:  1382 / 1400\n",
      "Accuracy for the current Epoch 76 = 98.71%\n",
      "Total Correct Predictions:  1375 / 1400\n",
      "Accuracy for the current Epoch 77 = 98.21%\n",
      "Total Correct Predictions:  1386 / 1400\n",
      "Accuracy for the current Epoch 78 = 99.00%\n",
      "Total Correct Predictions:  1384 / 1400\n",
      "Accuracy for the current Epoch 79 = 98.86%\n",
      "Total Correct Predictions:  1378 / 1400\n",
      "Accuracy for the current Epoch 80 = 98.43%\n",
      "Total Correct Predictions:  1384 / 1400\n",
      "Accuracy for the current Epoch 81 = 98.86%\n",
      "Total Correct Predictions:  1375 / 1400\n",
      "Accuracy for the current Epoch 82 = 98.21%\n",
      "Total Correct Predictions:  1388 / 1400\n",
      "Accuracy for the current Epoch 83 = 99.14%\n",
      "Total Correct Predictions:  1373 / 1400\n",
      "Accuracy for the current Epoch 84 = 98.07%\n",
      "Total Correct Predictions:  1382 / 1400\n",
      "Accuracy for the current Epoch 85 = 98.71%\n",
      "Total Correct Predictions:  1375 / 1400\n",
      "Accuracy for the current Epoch 86 = 98.21%\n",
      "Total Correct Predictions:  1386 / 1400\n",
      "Accuracy for the current Epoch 87 = 99.00%\n",
      "Total Correct Predictions:  1382 / 1400\n",
      "Accuracy for the current Epoch 88 = 98.71%\n",
      "Total Correct Predictions:  1384 / 1400\n",
      "Accuracy for the current Epoch 89 = 98.86%\n",
      "Total Correct Predictions:  1375 / 1400\n",
      "Accuracy for the current Epoch 90 = 98.21%\n",
      "Total Correct Predictions:  1388 / 1400\n",
      "Accuracy for the current Epoch 91 = 99.14%\n",
      "Total Correct Predictions:  1375 / 1400\n",
      "Accuracy for the current Epoch 92 = 98.21%\n",
      "Total Correct Predictions:  1389 / 1400\n",
      "Accuracy for the current Epoch 93 = 99.21%\n",
      "Total Correct Predictions:  1377 / 1400\n",
      "Accuracy for the current Epoch 94 = 98.36%\n",
      "Total Correct Predictions:  1387 / 1400\n",
      "Accuracy for the current Epoch 95 = 99.07%\n",
      "Total Correct Predictions:  1375 / 1400\n",
      "Accuracy for the current Epoch 96 = 98.21%\n",
      "Total Correct Predictions:  1392 / 1400\n",
      "Accuracy for the current Epoch 97 = 99.43%\n",
      "Total Correct Predictions:  1381 / 1400\n",
      "Accuracy for the current Epoch 98 = 98.64%\n"
     ]
    },
    {
     "name": "stdout",
     "output_type": "stream",
     "text": [
      "Total Correct Predictions:  1387 / 1400\n",
      "Accuracy for the current Epoch 99 = 99.07%\n",
      "************************************************** Training Complete **************************************************\n",
      "time taken:  3.016026258468628\n",
      "Final LOG cost after training: 0.67\n",
      "Final HINGE loss after training : 0.02\n",
      "Final accuracy after training for 100 epochs = 99.07%\n"
     ]
    }
   ],
   "source": [
    "t=time.time()    \n",
    "weights, bias = generate_wb(number_of_inputs, hyperparams)    \n",
    "for j in range(no_epochs):                                    \n",
    "    dw, db = generate_dwdb(hyperparams)                       \n",
    "    z, a = forward_propagation(weights, bias, hyperparams, x) \n",
    "    log_loss = log_loss_calc(a[no_hidden_layers][0], y)            \n",
    "    weights, bias, dw, db = backward_propagation(a, weights, bias, y, x)  \n",
    "    y_hat, correct, accuracy = accuracy_calc(a[no_hidden_layers][0])\n",
    "\n",
    "            \n",
    "    hinge_loss = hinge_loss_calc(y,y_hat)\n",
    "    print('Total Correct Predictions: ',correct, '/', y.shape[0])\n",
    "    print('Accuracy for the current Epoch {} = {:.2f}%'.format(j,accuracy*100))\n",
    "\n",
    "print('*'*50, 'Training Complete', '*'*50)\n",
    "print('time taken: ' ,time.time()-t)\n",
    "print('Final LOG cost after training: {:.2f}'.format(log_loss))\n",
    "print('Final HINGE loss after training : {:.2f}'.format(hinge_loss))\n",
    "print('Final accuracy after training for {} epochs = {:.2f}%'.format((j + 1),(accuracy * 100)))"
   ]
  },
  {
   "cell_type": "code",
   "execution_count": 18,
   "id": "3e80e712",
   "metadata": {},
   "outputs": [
    {
     "name": "stdout",
     "output_type": "stream",
     "text": [
      "Prediction: 1\n"
     ]
    }
   ],
   "source": [
    "def predict_output(input_data, weights, bias, hyperparams):\n",
    "    x = np.array(input_data).reshape(-1, 1) \n",
    "    z, a = forward_propagation(weights, bias, hyperparams, x)\n",
    "    predicted_output = np.max(a[hyperparams['no_hidden_layers']])\n",
    "    return 1 if predicted_output >= 0.5 else 0\n",
    "\n",
    "input_data = [1, 85, 66, 29, 0, 26.6, 0.351, 31]\n",
    "prediction = predict_output(input_data, weights, bias, hyperparams)\n",
    "print(\"Prediction:\", prediction)"
   ]
  },
  {
   "cell_type": "code",
   "execution_count": 6,
   "id": "46f39cb8",
   "metadata": {},
   "outputs": [],
   "source": [
    "import joblib"
   ]
  },
  {
   "cell_type": "code",
   "execution_count": 22,
   "id": "ba4aef57",
   "metadata": {},
   "outputs": [
    {
     "data": {
      "text/plain": [
       "['hyperparameters.joblib']"
      ]
     },
     "execution_count": 22,
     "metadata": {},
     "output_type": "execute_result"
    }
   ],
   "source": [
    "joblib.dump((weights, bias,hyperparams), 'hyperparameters.joblib')"
   ]
  }
 ],
 "metadata": {
  "kernelspec": {
   "display_name": "Python 3 (ipykernel)",
   "language": "python",
   "name": "python3"
  },
  "language_info": {
   "codemirror_mode": {
    "name": "ipython",
    "version": 3
   },
   "file_extension": ".py",
   "mimetype": "text/x-python",
   "name": "python",
   "nbconvert_exporter": "python",
   "pygments_lexer": "ipython3",
   "version": "3.9.7"
  }
 },
 "nbformat": 4,
 "nbformat_minor": 5
}
